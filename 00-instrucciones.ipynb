{
 "cells": [
  {
   "cell_type": "markdown",
   "metadata": {},
   "source": [
    "# W4 - API's PROJECT - TODO's\n",
    "​\n",
    "- A) Choose a dataset you like from `kaggle.com`.\n",
    "  \n",
    "- B) Create a python script and name it `main.py`. Requirements for this script:\n",
    "  - `main.py` must not have more than 100 lines.\n",
    "    - Separate code into other `.py` files. Create functions or classes if needed.\n",
    "  - It must receive at least **4 params** via command-line flags `--param1` `--param2`.\n",
    "    - Use `argparse` for this task.\n",
    "    - Those parameters should be used to filter the dataset.\n",
    "  \n",
    "- C) Filter the dataset with the params received from `main.py`\n",
    "  - Note: You can clean the dateset beforehand in another script/notebook or do it directly in the `main.py` execution\n",
    "  \n",
    "- D) Enrich the dataset with external data, you have to choose at least one of the following:\n",
    "  - L1) Get data from an API.\n",
    "  - L2) Use an API that requires authentication via token or oAuth.\n",
    "  - L3) Do basic web scraping with python `requests` module.\n",
    "  - L4) Perform advanced web scraping with `selenium`.\n",
    "  \n",
    "- E) Create some reports containing valuable data from the dataset. You have to choose at least one of the following:\n",
    "  - L1) Simply sumarize the data and do some basic statistics \\(`mean`, `max`, `min`, `std`, etc.).\n",
    "  - L2) Do domain based statistics or data aggregations using `groupby()` .\n",
    "  - L3) Create two different plots based on your input command line arguments\n",
    "  \n",
    "- F) Export the report, you have to choose at least one of the following.\n",
    "  - L1) Simple text report that will be printed in console `stdout` using `print()`.\n",
    "  - L2) Create a PDF file `report.pdf` with your text report and plots.\n",
    "  - L3) Send a mail using python `smtplib` library to someone. Add a `--mailto` flag in your `main.py` and include a text report inside the mail.\n",
    "  - L4) ��HARD MODE:�� Mail with PDF file attatched and plots inside pdf file.\n",
    "  \n",
    "- **G**) **NEW SEASON THIS BOOTCAMP** Advanced Mailing techniques\n",
    "  - L1) ����‍♂️ Generate a HTML email with embedded images & visual report\n",
    "  - L2) �� Use a mail sending service `API`. `Sengrid` Free plan allows 40k emails/day with it's free plan.\n",
    "- **E**) ��AMAZING�� Get an automatic `Slack` message every time someone opens an email with your report.����‍♂️ Use the slack api for this.\n",
    "​\n",
    "## How to deliver the project\n",
    "​\n",
    "Create a new repo with the name `apis-project` in your github account. Open an `ISSUE` with the link to your repo\n",
    "​\n",
    "## Links & Resources\n",
    "​\n",
    "- <https://docs.python.org/3/library/argparse.html>\n",
    "- <https://github.com/n0shake/Public-APIs>\n",
    "- <https://docs.python.org/3/library/smtplib.html>\n",
    "- <https://realpython.com/python-send-email/>\n",
    "- <https://2.python-requests.org/en/master/>\n",
    "- <https://github.com/theskumar/python-dotenv>\n",
    "- <https://selenium-python.readthedocs.io>\n",
    "- <https://selenium-python.readthedocs.io/getting-started.html#example-explained>\n",
    "- <https://pyfpdf.readthedocs.io/en/latest/>\n",
    "- <https://github.com/adam-p/markdown-here/wiki/Markdown-Cheatsheet>\n",
    "​\n",
    "## Prolinks\n",
    "​\n",
    "- <https://sendgrid.com/pricing/>\n",
    "- <https://www.socketlabs.com/developers/>\n"
   ]
  },
  {
   "cell_type": "markdown",
   "metadata": {},
   "source": [
    "# PARA EL EJERCICIO:\n",
    "Es obligatorio hacer los ejercicios A a F. El ejercicio L1 de cada uno."
   ]
  },
  {
   "cell_type": "markdown",
   "metadata": {},
   "source": [
    "Creo que voy a usar un dataset de aeropuertos o de restaurantes de la guía michelin junto con esta api:\n",
    "\n",
    "    https://openweathermap.org/api\n",
    "\n",
    "Para cruzar los datos con la predicción meteorológica."
   ]
  }
 ],
 "metadata": {
  "kernelspec": {
   "display_name": "Python 3",
   "language": "python",
   "name": "python3"
  },
  "language_info": {
   "codemirror_mode": {
    "name": "ipython",
    "version": 3
   },
   "file_extension": ".py",
   "mimetype": "text/x-python",
   "name": "python",
   "nbconvert_exporter": "python",
   "pygments_lexer": "ipython3",
   "version": "3.8.2"
  }
 },
 "nbformat": 4,
 "nbformat_minor": 4
}
