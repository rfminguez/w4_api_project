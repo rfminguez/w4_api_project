{
 "cells": [
  {
   "cell_type": "markdown",
   "metadata": {},
   "source": [
    "# Análisis y limpieza de los datos del data set"
   ]
  },
  {
   "cell_type": "code",
   "execution_count": 125,
   "metadata": {},
   "outputs": [],
   "source": [
    "#### ESTE ES UN EJEMPLO DEL USO DE LA API DE openweathermap ####\n",
    "\n",
    "# Voy a usar estas dos localizaciones como test:\n",
    "#  Yuma MCAS-Yuma International,Yuma,AZ,32.65658333,-114.6059722\n",
    "#  The Sportsman,2019,51.34392,0.95885,Seasalter,United Kingdom\n",
    "\n",
    "#lat = 51.34392\n",
    "#lon = 0.95885\n",
    "#api_key = \"xxx\"\n",
    "\n",
    "#url = 'http://api.openweathermap.org/data/2.5/onecall?lat=32.65658333&lon=-114.6059722&APPID=xxx'\n",
    "#url = f'http://api.openweathermap.org/data/2.5/onecall?lat={lat}&lon={lon}&APPID={api_key}'\n",
    "\n",
    "#res = r.get(url)\n",
    "#data = res.json()\n",
    "\n",
    "#print(data)\n"
   ]
  },
  {
   "cell_type": "code",
   "execution_count": 126,
   "metadata": {},
   "outputs": [],
   "source": [
    "import requests\n",
    "import pandas as pd\n",
    "import os\n",
    "from dotenv import load_dotenv\n",
    "\n",
    "# 1 - obtener datos de los csv\n",
    "# 2 - juntar los csv con un campo que indique las estrellas\n",
    "# 3 - hacer comandos\n",
    "# 3.1 - comando que consulte la API por un restaurante\n",
    "\n",
    "df_one_star = pd.read_csv('input/one-star-michelin-restaurants.csv')\n",
    "df_two_stars = pd.read_csv('input/two-stars-michelin-restaurants.csv')\n",
    "df_three_stars = pd.read_csv('input/three-stars-michelin-restaurants.csv')"
   ]
  },
  {
   "cell_type": "code",
   "execution_count": 127,
   "metadata": {},
   "outputs": [
    {
     "name": "stdout",
     "output_type": "stream",
     "text": [
      "(549, 10)\n",
      "(110, 10)\n",
      "(36, 10)\n"
     ]
    }
   ],
   "source": [
    "print(df_one_star.shape)\n",
    "print(df_two_stars.shape)\n",
    "print(df_three_stars.shape)"
   ]
  },
  {
   "cell_type": "markdown",
   "metadata": {},
   "source": [
    "## Junto los tres data sets"
   ]
  },
  {
   "cell_type": "code",
   "execution_count": 128,
   "metadata": {},
   "outputs": [],
   "source": [
    "df_one_star[\"stars\"] = 1\n",
    "df_two_stars[\"stars\"] = 2\n",
    "df_three_stars[\"stars\"] = 3"
   ]
  },
  {
   "cell_type": "code",
   "execution_count": 129,
   "metadata": {},
   "outputs": [
    {
     "data": {
      "text/plain": [
       "(695, 11)"
      ]
     },
     "execution_count": 129,
     "metadata": {},
     "output_type": "execute_result"
    }
   ],
   "source": [
    "df_all = pd.concat([df_one_star, df_two_stars, df_three_stars])\n",
    "df_all.shape"
   ]
  },
  {
   "cell_type": "markdown",
   "metadata": {},
   "source": [
    "## Análisis del data set completo"
   ]
  },
  {
   "cell_type": "code",
   "execution_count": 130,
   "metadata": {},
   "outputs": [
    {
     "name": "stdout",
     "output_type": "stream",
     "text": [
      "<class 'pandas.core.frame.DataFrame'>\n",
      "Int64Index: 695 entries, 0 to 35\n",
      "Data columns (total 11 columns):\n",
      " #   Column     Non-Null Count  Dtype  \n",
      "---  ------     --------------  -----  \n",
      " 0   name       695 non-null    object \n",
      " 1   year       695 non-null    int64  \n",
      " 2   latitude   695 non-null    float64\n",
      " 3   longitude  695 non-null    float64\n",
      " 4   city       693 non-null    object \n",
      " 5   region     695 non-null    object \n",
      " 6   zipCode    501 non-null    object \n",
      " 7   cuisine    695 non-null    object \n",
      " 8   price      519 non-null    object \n",
      " 9   url        695 non-null    object \n",
      " 10  stars      695 non-null    int64  \n",
      "dtypes: float64(2), int64(2), object(7)\n",
      "memory usage: 65.2+ KB\n",
      "None\n"
     ]
    }
   ],
   "source": [
    "print(df_all.info())"
   ]
  },
  {
   "cell_type": "code",
   "execution_count": 131,
   "metadata": {},
   "outputs": [
    {
     "data": {
      "text/plain": [
       "False    695\n",
       "dtype: int64"
      ]
     },
     "execution_count": 131,
     "metadata": {},
     "output_type": "execute_result"
    }
   ],
   "source": [
    "# No hay datos duplicados\n",
    "df_all.duplicated().value_counts()"
   ]
  },
  {
   "cell_type": "code",
   "execution_count": 132,
   "metadata": {},
   "outputs": [
    {
     "data": {
      "text/html": [
       "<div>\n",
       "<style scoped>\n",
       "    .dataframe tbody tr th:only-of-type {\n",
       "        vertical-align: middle;\n",
       "    }\n",
       "\n",
       "    .dataframe tbody tr th {\n",
       "        vertical-align: top;\n",
       "    }\n",
       "\n",
       "    .dataframe thead th {\n",
       "        text-align: right;\n",
       "    }\n",
       "</style>\n",
       "<table border=\"1\" class=\"dataframe\">\n",
       "  <thead>\n",
       "    <tr style=\"text-align: right;\">\n",
       "      <th></th>\n",
       "      <th>name</th>\n",
       "      <th>year</th>\n",
       "      <th>latitude</th>\n",
       "      <th>longitude</th>\n",
       "      <th>city</th>\n",
       "      <th>region</th>\n",
       "      <th>zipCode</th>\n",
       "      <th>cuisine</th>\n",
       "      <th>price</th>\n",
       "      <th>url</th>\n",
       "      <th>stars</th>\n",
       "    </tr>\n",
       "  </thead>\n",
       "  <tbody>\n",
       "    <tr>\n",
       "      <th>152</th>\n",
       "      <td>Épure</td>\n",
       "      <td>2019</td>\n",
       "      <td>22.295830</td>\n",
       "      <td>114.169304</td>\n",
       "      <td>NaN</td>\n",
       "      <td>Hong Kong</td>\n",
       "      <td>NaN</td>\n",
       "      <td>French</td>\n",
       "      <td>$$$</td>\n",
       "      <td>https://guide.michelin.com/hk/en/hong-kong-reg...</td>\n",
       "      <td>1</td>\n",
       "    </tr>\n",
       "    <tr>\n",
       "      <th>166</th>\n",
       "      <td>Arbor</td>\n",
       "      <td>2019</td>\n",
       "      <td>22.283146</td>\n",
       "      <td>114.155420</td>\n",
       "      <td>NaN</td>\n",
       "      <td>Hong Kong</td>\n",
       "      <td>NaN</td>\n",
       "      <td>Innovative</td>\n",
       "      <td>$$$</td>\n",
       "      <td>https://guide.michelin.com/hk/en/hong-kong-reg...</td>\n",
       "      <td>1</td>\n",
       "    </tr>\n",
       "  </tbody>\n",
       "</table>\n",
       "</div>"
      ],
      "text/plain": [
       "      name  year   latitude   longitude city     region zipCode     cuisine  \\\n",
       "152  Épure  2019  22.295830  114.169304  NaN  Hong Kong     NaN      French   \n",
       "166  Arbor  2019  22.283146  114.155420  NaN  Hong Kong     NaN  Innovative   \n",
       "\n",
       "    price                                                url  stars  \n",
       "152   $$$  https://guide.michelin.com/hk/en/hong-kong-reg...      1  \n",
       "166   $$$  https://guide.michelin.com/hk/en/hong-kong-reg...      1  "
      ]
     },
     "execution_count": 132,
     "metadata": {},
     "output_type": "execute_result"
    }
   ],
   "source": [
    "# Algunos restaurantes tienen la ciudad a nulo\n",
    "df_all[df_all[\"city\"].isnull()]"
   ]
  },
  {
   "cell_type": "code",
   "execution_count": 133,
   "metadata": {},
   "outputs": [
    {
     "data": {
      "text/plain": [
       "array([2019, 2018])"
      ]
     },
     "execution_count": 133,
     "metadata": {},
     "output_type": "execute_result"
    }
   ],
   "source": [
    "# Hay datos de los años 2018 y 2019\n",
    "df_all[\"year\"].unique()"
   ]
  },
  {
   "cell_type": "code",
   "execution_count": 233,
   "metadata": {},
   "outputs": [
    {
     "data": {
      "text/plain": [
       "2019    656\n",
       "2018     39\n",
       "Name: year, dtype: int64"
      ]
     },
     "execution_count": 233,
     "metadata": {},
     "output_type": "execute_result"
    }
   ],
   "source": [
    "# La mayoría de restaurantes son del año 2019\n",
    "df_all[\"year\"].value_counts()"
   ]
  },
  {
   "cell_type": "code",
   "execution_count": 237,
   "metadata": {},
   "outputs": [
    {
     "data": {
      "text/plain": [
       "array(['$$$$$', '$$$$', '$$$', '$$', '$', nan], dtype=object)"
      ]
     },
     "execution_count": 237,
     "metadata": {},
     "output_type": "execute_result"
    }
   ],
   "source": [
    "# La columna \"price\" tiene valores nulos\n",
    "df_all[\"price\"].unique()"
   ]
  },
  {
   "cell_type": "code",
   "execution_count": 135,
   "metadata": {},
   "outputs": [
    {
     "data": {
      "text/plain": [
       "United Kingdom    162\n",
       "Ireland            14\n",
       "Name: region, dtype: int64"
      ]
     },
     "execution_count": 135,
     "metadata": {},
     "output_type": "execute_result"
    }
   ],
   "source": [
    "# Los valore nulos en la columna \"price\" están en las regions \"United Kingdom\" e \"Ireland\"\n",
    "df_all[df_all[\"price\"].isnull()][\"region\"].value_counts()"
   ]
  },
  {
   "cell_type": "markdown",
   "metadata": {},
   "source": [
    "### Restaurantes que aparecen varias veces un mismo año"
   ]
  },
  {
   "cell_type": "code",
   "execution_count": 136,
   "metadata": {},
   "outputs": [
    {
     "data": {
      "text/plain": [
       "name\n",
       "L'Atelier de Joël Robuchon    3\n",
       "Sorrel                        2\n",
       "The Kitchen                   2\n",
       "Blackbird                     2\n",
       "Angler                        2\n",
       "                             ..\n",
       "Purnell's                     1\n",
       "Providence                    1\n",
       "Protégé                       1\n",
       "Pramerl & the Wolf            1\n",
       "108                           1\n",
       "Name: year, Length: 684, dtype: int64"
      ]
     },
     "execution_count": 136,
     "metadata": {},
     "output_type": "execute_result"
    }
   ],
   "source": [
    "# Hay algunos restaurantes que aparecen varias veces en un mismo año\n",
    "df_all.groupby(\"name\").agg({\"year\": \"count\"})[\"year\"].sort_values(ascending=False)"
   ]
  },
  {
   "cell_type": "code",
   "execution_count": 137,
   "metadata": {},
   "outputs": [
    {
     "data": {
      "text/html": [
       "<div>\n",
       "<style scoped>\n",
       "    .dataframe tbody tr th:only-of-type {\n",
       "        vertical-align: middle;\n",
       "    }\n",
       "\n",
       "    .dataframe tbody tr th {\n",
       "        vertical-align: top;\n",
       "    }\n",
       "\n",
       "    .dataframe thead th {\n",
       "        text-align: right;\n",
       "    }\n",
       "</style>\n",
       "<table border=\"1\" class=\"dataframe\">\n",
       "  <thead>\n",
       "    <tr style=\"text-align: right;\">\n",
       "      <th></th>\n",
       "      <th>name</th>\n",
       "      <th>year</th>\n",
       "      <th>latitude</th>\n",
       "      <th>longitude</th>\n",
       "      <th>city</th>\n",
       "      <th>region</th>\n",
       "      <th>zipCode</th>\n",
       "      <th>cuisine</th>\n",
       "      <th>price</th>\n",
       "      <th>url</th>\n",
       "      <th>stars</th>\n",
       "    </tr>\n",
       "  </thead>\n",
       "  <tbody>\n",
       "    <tr>\n",
       "      <th>360</th>\n",
       "      <td>L'Atelier de Joël Robuchon</td>\n",
       "      <td>2019</td>\n",
       "      <td>25.039188</td>\n",
       "      <td>121.56771</td>\n",
       "      <td>Taipei</td>\n",
       "      <td>Taipei</td>\n",
       "      <td>110</td>\n",
       "      <td>French contemporary</td>\n",
       "      <td>$$$</td>\n",
       "      <td>https://guide.michelin.com/tw/en/taipei-region...</td>\n",
       "      <td>1</td>\n",
       "    </tr>\n",
       "    <tr>\n",
       "      <th>47</th>\n",
       "      <td>L'Atelier de Joël Robuchon</td>\n",
       "      <td>2019</td>\n",
       "      <td>40.742905</td>\n",
       "      <td>-74.00769</td>\n",
       "      <td>New York</td>\n",
       "      <td>New York City</td>\n",
       "      <td>NaN</td>\n",
       "      <td>French</td>\n",
       "      <td>$$$$</td>\n",
       "      <td>https://guide.michelin.com/us/en/new-york-stat...</td>\n",
       "      <td>2</td>\n",
       "    </tr>\n",
       "    <tr>\n",
       "      <th>15</th>\n",
       "      <td>L'Atelier de Joël Robuchon</td>\n",
       "      <td>2019</td>\n",
       "      <td>22.281199</td>\n",
       "      <td>114.15816</td>\n",
       "      <td>Hong Kong</td>\n",
       "      <td>Hong Kong</td>\n",
       "      <td>NaN</td>\n",
       "      <td>French contemporary</td>\n",
       "      <td>$$$$</td>\n",
       "      <td>https://guide.michelin.com/hk/en/hong-kong-reg...</td>\n",
       "      <td>3</td>\n",
       "    </tr>\n",
       "  </tbody>\n",
       "</table>\n",
       "</div>"
      ],
      "text/plain": [
       "                           name  year   latitude  longitude       city  \\\n",
       "360  L'Atelier de Joël Robuchon  2019  25.039188  121.56771     Taipei   \n",
       "47   L'Atelier de Joël Robuchon  2019  40.742905  -74.00769   New York   \n",
       "15   L'Atelier de Joël Robuchon  2019  22.281199  114.15816  Hong Kong   \n",
       "\n",
       "            region zipCode              cuisine price  \\\n",
       "360         Taipei     110  French contemporary   $$$   \n",
       "47   New York City     NaN               French  $$$$   \n",
       "15       Hong Kong     NaN  French contemporary  $$$$   \n",
       "\n",
       "                                                   url  stars  \n",
       "360  https://guide.michelin.com/tw/en/taipei-region...      1  \n",
       "47   https://guide.michelin.com/us/en/new-york-stat...      2  \n",
       "15   https://guide.michelin.com/hk/en/hong-kong-reg...      3  "
      ]
     },
     "execution_count": 137,
     "metadata": {},
     "output_type": "execute_result"
    }
   ],
   "source": [
    "# Este en particular parece que tiene sedes en tres ciudades del mundo y con distinta valoración de estrellas\n",
    "df_all[df_all[\"name\"] == \"L'Atelier de Joël Robuchon\"]"
   ]
  },
  {
   "cell_type": "code",
   "execution_count": 138,
   "metadata": {},
   "outputs": [
    {
     "data": {
      "text/html": [
       "<div>\n",
       "<style scoped>\n",
       "    .dataframe tbody tr th:only-of-type {\n",
       "        vertical-align: middle;\n",
       "    }\n",
       "\n",
       "    .dataframe tbody tr th {\n",
       "        vertical-align: top;\n",
       "    }\n",
       "\n",
       "    .dataframe thead th {\n",
       "        text-align: right;\n",
       "    }\n",
       "</style>\n",
       "<table border=\"1\" class=\"dataframe\">\n",
       "  <thead>\n",
       "    <tr style=\"text-align: right;\">\n",
       "      <th></th>\n",
       "      <th>name</th>\n",
       "      <th>year</th>\n",
       "      <th>latitude</th>\n",
       "      <th>longitude</th>\n",
       "      <th>city</th>\n",
       "      <th>region</th>\n",
       "      <th>zipCode</th>\n",
       "      <th>cuisine</th>\n",
       "      <th>price</th>\n",
       "      <th>url</th>\n",
       "      <th>stars</th>\n",
       "    </tr>\n",
       "  </thead>\n",
       "  <tbody>\n",
       "    <tr>\n",
       "      <th>57</th>\n",
       "      <td>The Kitchen</td>\n",
       "      <td>2019</td>\n",
       "      <td>38.588940</td>\n",
       "      <td>-121.41424</td>\n",
       "      <td>Sacramento</td>\n",
       "      <td>California</td>\n",
       "      <td>95825</td>\n",
       "      <td>Contemporary</td>\n",
       "      <td>$$$$</td>\n",
       "      <td>https://guide.michelin.com/us/en/california/us...</td>\n",
       "      <td>1</td>\n",
       "    </tr>\n",
       "    <tr>\n",
       "      <th>186</th>\n",
       "      <td>The Kitchen</td>\n",
       "      <td>2019</td>\n",
       "      <td>22.191442</td>\n",
       "      <td>113.54300</td>\n",
       "      <td>Macau</td>\n",
       "      <td>Macau</td>\n",
       "      <td>NaN</td>\n",
       "      <td>Steakhouse</td>\n",
       "      <td>$$$</td>\n",
       "      <td>https://guide.michelin.com/mo/en/macau-region/...</td>\n",
       "      <td>1</td>\n",
       "    </tr>\n",
       "  </tbody>\n",
       "</table>\n",
       "</div>"
      ],
      "text/plain": [
       "            name  year   latitude  longitude        city      region zipCode  \\\n",
       "57   The Kitchen  2019  38.588940 -121.41424  Sacramento  California   95825   \n",
       "186  The Kitchen  2019  22.191442  113.54300       Macau       Macau     NaN   \n",
       "\n",
       "          cuisine price                                                url  \\\n",
       "57   Contemporary  $$$$  https://guide.michelin.com/us/en/california/us...   \n",
       "186    Steakhouse   $$$  https://guide.michelin.com/mo/en/macau-region/...   \n",
       "\n",
       "     stars  \n",
       "57       1  \n",
       "186      1  "
      ]
     },
     "execution_count": 138,
     "metadata": {},
     "output_type": "execute_result"
    }
   ],
   "source": [
    "# Puede que sean restaurantes diferentes pero a la hora de seleccionar por nombre aparecerán dos restaurantes\n",
    "df_all[df_all[\"name\"] == \"The Kitchen\"]"
   ]
  },
  {
   "cell_type": "markdown",
   "metadata": {},
   "source": [
    "### Restaurantes que aparecen en 2019 y 2018"
   ]
  },
  {
   "cell_type": "code",
   "execution_count": 139,
   "metadata": {},
   "outputs": [
    {
     "data": {
      "text/html": [
       "<div>\n",
       "<style scoped>\n",
       "    .dataframe tbody tr th:only-of-type {\n",
       "        vertical-align: middle;\n",
       "    }\n",
       "\n",
       "    .dataframe tbody tr th {\n",
       "        vertical-align: top;\n",
       "    }\n",
       "\n",
       "    .dataframe thead th {\n",
       "        text-align: right;\n",
       "    }\n",
       "</style>\n",
       "<table border=\"1\" class=\"dataframe\">\n",
       "  <thead>\n",
       "    <tr style=\"text-align: right;\">\n",
       "      <th></th>\n",
       "      <th>name</th>\n",
       "    </tr>\n",
       "  </thead>\n",
       "  <tbody>\n",
       "    <tr>\n",
       "      <th>0</th>\n",
       "      <td>Summer Palace</td>\n",
       "    </tr>\n",
       "  </tbody>\n",
       "</table>\n",
       "</div>"
      ],
      "text/plain": [
       "            name\n",
       "0  Summer Palace"
      ]
     },
     "execution_count": 139,
     "metadata": {},
     "output_type": "execute_result"
    }
   ],
   "source": [
    "# Hay un restaurante que aparece en 2018 y en 2019\n",
    "df_all[df_all[\"year\"] == 2018][[\"name\"]].merge(df_all[df_all[\"year\"] == 2019][[\"name\"]])"
   ]
  },
  {
   "cell_type": "code",
   "execution_count": 140,
   "metadata": {},
   "outputs": [
    {
     "data": {
      "text/html": [
       "<div>\n",
       "<style scoped>\n",
       "    .dataframe tbody tr th:only-of-type {\n",
       "        vertical-align: middle;\n",
       "    }\n",
       "\n",
       "    .dataframe tbody tr th {\n",
       "        vertical-align: top;\n",
       "    }\n",
       "\n",
       "    .dataframe thead th {\n",
       "        text-align: right;\n",
       "    }\n",
       "</style>\n",
       "<table border=\"1\" class=\"dataframe\">\n",
       "  <thead>\n",
       "    <tr style=\"text-align: right;\">\n",
       "      <th></th>\n",
       "      <th>name</th>\n",
       "      <th>year</th>\n",
       "      <th>latitude</th>\n",
       "      <th>longitude</th>\n",
       "      <th>city</th>\n",
       "      <th>region</th>\n",
       "      <th>zipCode</th>\n",
       "      <th>cuisine</th>\n",
       "      <th>price</th>\n",
       "      <th>url</th>\n",
       "      <th>stars</th>\n",
       "    </tr>\n",
       "  </thead>\n",
       "  <tbody>\n",
       "    <tr>\n",
       "      <th>164</th>\n",
       "      <td>Summer Palace</td>\n",
       "      <td>2019</td>\n",
       "      <td>22.277136</td>\n",
       "      <td>114.1643</td>\n",
       "      <td>Hong Kong</td>\n",
       "      <td>Hong Kong</td>\n",
       "      <td>NaN</td>\n",
       "      <td>Cantonese</td>\n",
       "      <td>$$$</td>\n",
       "      <td>https://guide.michelin.com/hk/en/hong-kong-reg...</td>\n",
       "      <td>1</td>\n",
       "    </tr>\n",
       "    <tr>\n",
       "      <th>333</th>\n",
       "      <td>Summer Palace</td>\n",
       "      <td>2018</td>\n",
       "      <td>1.304385</td>\n",
       "      <td>103.8250</td>\n",
       "      <td>Singapore</td>\n",
       "      <td>Singapore</td>\n",
       "      <td>NaN</td>\n",
       "      <td>Cantonese</td>\n",
       "      <td>$</td>\n",
       "      <td>https://guide.michelin.com/sg/en/singapore-reg...</td>\n",
       "      <td>1</td>\n",
       "    </tr>\n",
       "  </tbody>\n",
       "</table>\n",
       "</div>"
      ],
      "text/plain": [
       "              name  year   latitude  longitude       city     region zipCode  \\\n",
       "164  Summer Palace  2019  22.277136   114.1643  Hong Kong  Hong Kong     NaN   \n",
       "333  Summer Palace  2018   1.304385   103.8250  Singapore  Singapore     NaN   \n",
       "\n",
       "       cuisine price                                                url  stars  \n",
       "164  Cantonese   $$$  https://guide.michelin.com/hk/en/hong-kong-reg...      1  \n",
       "333  Cantonese     $  https://guide.michelin.com/sg/en/singapore-reg...      1  "
      ]
     },
     "execution_count": 140,
     "metadata": {},
     "output_type": "execute_result"
    }
   ],
   "source": [
    "# Parece que tiene dos sedes en ciudades diferentes\n",
    "df_all[df_all[\"name\"] == \"Summer Palace\"]"
   ]
  },
  {
   "cell_type": "markdown",
   "metadata": {},
   "source": [
    "# Hora de juntar datos del dataframe con los de la api\n",
    "Los campos por los que juntar son:\n",
    "- latitude\n",
    "- longitude"
   ]
  },
  {
   "cell_type": "code",
   "execution_count": 141,
   "metadata": {},
   "outputs": [],
   "source": [
    "# Voy a probar con datos de este último restaurante:\n",
    "df_test = df_all[df_all[\"name\"] == \"Summer Palace\"]"
   ]
  },
  {
   "cell_type": "code",
   "execution_count": 142,
   "metadata": {},
   "outputs": [],
   "source": [
    "load_dotenv()\n",
    "key = os.getenv(\"OPENWEATHERMAP_APIKEY\")"
   ]
  },
  {
   "cell_type": "code",
   "execution_count": 231,
   "metadata": {},
   "outputs": [
    {
     "name": "stdout",
     "output_type": "stream",
     "text": [
      "---\n",
      "200\n",
      "---\n",
      "---\n",
      "Test1\n",
      "---\n",
      "---\n",
      "Test3\n",
      "---\n",
      "---\n",
      "200\n",
      "---\n",
      "---\n",
      "Test1\n",
      "---\n",
      "---\n",
      "Test3\n",
      "---\n"
     ]
    }
   ],
   "source": [
    "units = \"metric\" # Temperatura en Celsius\n",
    "\n",
    "list_of_restaurants = []\n",
    "\n",
    "for name, city, region, cuisine, price, url, stars, latitude, longitude in df_test[[\"name\", \"city\", \"region\", \"cuisine\", \"price\", \"url\", \"stars\", \"latitude\", \"longitude\"]].itertuples(index=False):\n",
    "    url = f'http://api.openweathermap.org/data/2.5/onecall?lat={latitude}&lon={longitude}&units={units}&APPID={key}'\n",
    "\n",
    "    response = r.get(url)\n",
    "    \n",
    "    data = response.json()\n",
    "    \n",
    "    restaurant = {'name': name,\n",
    "                 'city': city,\n",
    "                 'region': region,\n",
    "                 'cuisine': cuisine,\n",
    "                 'price': price,\n",
    "                 'url': url,\n",
    "                 'stars': stars,\n",
    "                 'current_temp': data['current']['temp'],\n",
    "                 'current_feels_like': data['current']['feels_like']\n",
    "                 }\n",
    "\n",
    "    try:\n",
    "        if data['current']['rain']:\n",
    "            restaurant['rain_1h'] = data['current']['rain']['1h']\n",
    "    except KeyError:\n",
    "        restaurant['rain_1h'] = \"En esta localización no hay información sobre previsión de lluvia.\"\n",
    "\n",
    "    try:\n",
    "        if data['current']['weather']:\n",
    "            restaurant['weather'] = data['current']['weather'][0]['main']\n",
    "            restaurant['weather_description'] = data['current']['weather'][0]['description']\n",
    "    except KeyError:\n",
    "        print(\"---\")\n",
    "        print(\"Test2\")\n",
    "        print(\"---\")\n",
    "        restaurant['weather'] = \"En esta localización no hay información meteorológica.\"\n",
    "        restaurant['weather_description'] = \"En esta localización no hay información meteorológica.\"\n",
    "\n",
    "    list_of_restaurants.append(restaurant)"
   ]
  },
  {
   "cell_type": "code",
   "execution_count": 232,
   "metadata": {},
   "outputs": [
    {
     "name": "stdout",
     "output_type": "stream",
     "text": [
      "{'name': 'Summer Palace', 'city': 'Hong Kong', 'region': 'Hong Kong', 'cuisine': 'Cantonese', 'price': '$$$', 'url': 'http://api.openweathermap.org/data/2.5/onecall?lat=22.277136&lon=114.1643&units=metric&APPID=0964509b18e74504c35ad703745a7e91', 'stars': 1, 'current_temp': 27.78, 'current_feels_like': 31.51, 'rain_1h': 0.13, 'weather': 'Rain', 'weather_description': 'light rain'}\n",
      "{'name': 'Summer Palace', 'city': 'Singapore', 'region': 'Singapore', 'cuisine': 'Cantonese', 'price': '$', 'url': 'http://api.openweathermap.org/data/2.5/onecall?lat=1.3043848&lon=103.825&units=metric&APPID=0964509b18e74504c35ad703745a7e91', 'stars': 1, 'current_temp': 25, 'current_feels_like': 29.75, 'rain_1h': 'En esta localización no hay información sobre previsión de lluvia.', 'weather': 'Clouds', 'weather_description': 'broken clouds'}\n"
     ]
    }
   ],
   "source": [
    "for restaurant in list_of_restaurants:\n",
    "    print(restaurant)"
   ]
  },
  {
   "cell_type": "code",
   "execution_count": null,
   "metadata": {},
   "outputs": [],
   "source": []
  }
 ],
 "metadata": {
  "kernelspec": {
   "display_name": "Python 3",
   "language": "python",
   "name": "python3"
  },
  "language_info": {
   "codemirror_mode": {
    "name": "ipython",
    "version": 3
   },
   "file_extension": ".py",
   "mimetype": "text/x-python",
   "name": "python",
   "nbconvert_exporter": "python",
   "pygments_lexer": "ipython3",
   "version": "3.8.2"
  }
 },
 "nbformat": 4,
 "nbformat_minor": 4
}
